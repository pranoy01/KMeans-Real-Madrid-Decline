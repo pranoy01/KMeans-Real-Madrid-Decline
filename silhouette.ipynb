{
  "nbformat": 4,
  "nbformat_minor": 0,
  "metadata": {
    "colab": {
      "name": "silhouette.ipynb",
      "provenance": [],
      "authorship_tag": "ABX9TyMaCRIy7j//Jswq1TgUAZVa",
      "include_colab_link": true
    },
    "kernelspec": {
      "name": "python3",
      "display_name": "Python 3"
    }
  },
  "cells": [
    {
      "cell_type": "markdown",
      "metadata": {
        "id": "view-in-github",
        "colab_type": "text"
      },
      "source": [
        "<a href=\"https://colab.research.google.com/github/bdominique/Real-Madrid/blob/master/silhouette.ipynb\" target=\"_parent\"><img src=\"https://colab.research.google.com/assets/colab-badge.svg\" alt=\"Open In Colab\"/></a>"
      ]
    },
    {
      "cell_type": "code",
      "metadata": {
        "id": "e_nvc17lpA_q",
        "colab_type": "code",
        "colab": {}
      },
      "source": [
        "#Code to generate the average Silhouette Score for each value of k from 2 to 10.\n",
        "from sklearn.cluster import KMeans\n",
        "from sklearn.metrics import silhouette_samples, silhouette_score\n",
        "\n",
        "import matplotlib.pyplot as plt\n",
        "import matplotlib.cm as cm\n",
        "import numpy as np\n",
        "import pandas as pd\n",
        "\n",
        "\n"
      ],
      "execution_count": 0,
      "outputs": []
    },
    {
      "cell_type": "code",
      "metadata": {
        "id": "vceCE2cOpSuY",
        "colab_type": "code",
        "colab": {}
      },
      "source": [
        "\n",
        "def silhouette(filename):\n",
        "\n",
        "  data = pd.read_csv(filename)\n",
        "  range_n_clusters = [2, 3, 4, 5, 6, 7, 8, 9, 10]\n",
        "\n",
        "  for n_clusters in range_n_clusters:\n",
        "    plt.figure()\n",
        "\n",
        "    # The silhouette coefficient can range from -1, 1\n",
        "    plt.xlim([-1, 1])\n",
        "\n",
        "    # The (n_clusters+1)*10 is for inserting blank space between silhouette\n",
        "    # plots of individual clusters, to demarcate them clearly.\n",
        "    \n",
        "    plt.ylim([0, len(data) + (n_clusters + 1) * 10])\n",
        "\n",
        "    # Initialize the clusterer with n_clusters value and a random generator\n",
        "    # seed of 10 for reproducibility.\n",
        "    clusterer = KMeans(n_clusters=n_clusters, random_state=10)\n",
        "    cluster_labels = clusterer.fit_predict(data)\n",
        "\n",
        "    # The silhouette_score gives the average value for all the samples.\n",
        "    # This gives a perspective into the density and separation of the formed\n",
        "    # clusters\n",
        "\n",
        "    silhouette_avg = silhouette_score(data, cluster_labels)\n",
        "    print(\"For n_clusters =\", n_clusters,\n",
        "          \"The average silhouette_score is :\", silhouette_avg)\n",
        "\n",
        "    # Compute the silhouette scores for each sample\n",
        "    sample_silhouette_values = silhouette_samples(data, cluster_labels)\n",
        "\n",
        "    y_lower = 10\n",
        "    for i in range(n_clusters):\n",
        "        # Aggregate the silhouette scores for samples belonging to\n",
        "        # cluster i, and sort them\n",
        "        ith_cluster_silhouette_values = \\\n",
        "            sample_silhouette_values[cluster_labels == i]\n",
        "\n",
        "        ith_cluster_silhouette_values.sort()\n",
        "\n",
        "        size_cluster_i = ith_cluster_silhouette_values.shape[0]\n",
        "        y_upper = y_lower + size_cluster_i\n",
        "\n",
        "        color = cm.nipy_spectral(float(i) / n_clusters)\n",
        "        plt.fill_betweenx(np.arange(y_lower, y_upper),\n",
        "                          0, ith_cluster_silhouette_values,\n",
        "                          facecolor=color, edgecolor=color, alpha=0.7)\n",
        "\n",
        "        # Label the silhouette plots with their cluster numbers at the middle\n",
        "        plt.text(-0.15, y_lower + 0.5 * size_cluster_i, str(i))\n",
        "        \n",
        "        # Compute the new y_lower for next plot\n",
        "        y_lower = y_upper + 10  # 10 for the 0 samples\n",
        "\n",
        "    plt.title(\"The silhouette plot for the various clusters.\")\n",
        "    plt.xlabel(\"The silhouette coefficient values\")\n",
        "    plt.ylabel(\"Cluster label\")\n",
        "\n",
        "    # The vertical line for average silhouette score of all the values\n",
        "    plt.axvline(x=silhouette_avg, color=\"red\", linestyle=\"--\")\n",
        "\n",
        "    plt.yticks([])  # Clear the yaxis labels / ticks\n",
        "    plt.xticks([-1, -0.8, -0.6, -0.4, -0.2, 0, 0.2, 0.4, 0.6, 0.8, 1])\n",
        "\n",
        "\n",
        "    plt.title((\"Silhouette analysis for KMeans clustering on Dataset \"\n",
        "                  \"with n_clusters = %d\" % n_clusters),\n",
        "                 fontsize=14, fontweight='bold')\n",
        "\n",
        "  plt.show()\n",
        "  return"
      ],
      "execution_count": 0,
      "outputs": []
    },
    {
      "cell_type": "code",
      "metadata": {
        "id": "kQ5YtYrUt_OD",
        "colab_type": "code",
        "colab": {}
      },
      "source": [
        "fcb_data = [\"fcb_data_pt1_v1.csv\", \"fcb_data_pt2_v1.csv\", \"fcb_data_all_v1.csv\", \"fcb_data_guardiola.csv\", \"fcb_data_enrique.csv\", \"fcb_data_title_wins.csv\", \"fcb_data_title_losses.csv\"]\n",
        "rm_data = [\"rm_data_pt1_v1.csv\", \"rm_data_pt2_v1.csv\", \"rm_data_all_v1.csv\", \"rm_data_mourinho.csv\", \"rm_data_ancelotti.csv\", \"rm_data_zidane.csv\", \"rm_data_title_wins.csv\", \"rm_data_title_losses.csv\"]"
      ],
      "execution_count": 0,
      "outputs": []
    },
    {
      "cell_type": "code",
      "metadata": {
        "id": "kFjxVoKKT5ar",
        "colab_type": "code",
        "colab": {}
      },
      "source": [
        "#2009/10-2013/14 seasons for each team\n",
        "print(\"-------------------------------- Silhouette Values for 2009/10-2013/14 Seasons (Barcelona) --------------------------------\")\n",
        "silhouette(fcb_data[0])\n",
        "print(\"-------------------------------- Silhouette Values for 2009/10-2013/14 Seasons (Real Madrid) --------------------------------\")\n",
        "silhouette(rm_data[0])\n",
        "\n"
      ],
      "execution_count": 0,
      "outputs": []
    },
    {
      "cell_type": "code",
      "metadata": {
        "id": "-7cijwqyvUZs",
        "colab_type": "code",
        "colab": {}
      },
      "source": [
        "#2014/15-2017/18 seasons for each team\n",
        "print(\"-------------------------------- Silhouette Values for 2014/15-2017/18 Seasons (Barcelona) --------------------------------\")\n",
        "silhouette(fcb_data[1])\n",
        "print(\"-------------------------------- Silhouette Values for 2014/15-2017/18 Seasons (Real Madrid) --------------------------------\")\n",
        "silhouette(rm_data[1])\n",
        "\n"
      ],
      "execution_count": 0,
      "outputs": []
    },
    {
      "cell_type": "code",
      "metadata": {
        "id": "P4n3Q42gvYWU",
        "colab_type": "code",
        "colab": {}
      },
      "source": [
        "#2009/10-2017-18 seasons for each team\n",
        "print(\"-------------------------------- Silhouette Values for 2009/10-2017/18 Seasons (Barcelona) --------------------------------\")\n",
        "silhouette(fcb_data[2])\n",
        "print(\"-------------------------------- Silhouette Values for 2009/10-2017/18 Seasons (Real Madrid) --------------------------------\")\n",
        "silhouette(rm_data[2])\n",
        "\n"
      ],
      "execution_count": 0,
      "outputs": []
    },
    {
      "cell_type": "code",
      "metadata": {
        "id": "dZKp5iI0va2M",
        "colab_type": "code",
        "colab": {}
      },
      "source": [
        "#Real Madrid Managers\n",
        "print(\"-------------------------------- Silhouette Values for Mourinho --------------------------------\")\n",
        "silhouette(rm_data[3])\n",
        "\n",
        "print(\"-------------------------------- Silhouette Values for Ancelotti --------------------------------\")\n",
        "silhouette(rm_data[4])\n",
        "\n",
        "print(\"-------------------------------- Silhouette Values for Zidane --------------------------------\")\n",
        "silhouette(rm_data[5])\n",
        "\n"
      ],
      "execution_count": 0,
      "outputs": []
    },
    {
      "cell_type": "code",
      "metadata": {
        "id": "W3_yt_p5vc2u",
        "colab_type": "code",
        "colab": {}
      },
      "source": [
        "#Barcelona Managers\n",
        "print(\"-------------------------------- Silhouette Values for Guardiola --------------------------------\")\n",
        "silhouette(fcb_data[3])\n",
        "\n",
        "print(\"-------------------------------- Silhouette Values for Enrique --------------------------------\")\n",
        "silhouette(fcb_data[4])\n",
        "\n"
      ],
      "execution_count": 0,
      "outputs": []
    },
    {
      "cell_type": "code",
      "metadata": {
        "id": "eZRUTsa5vjPd",
        "colab_type": "code",
        "colab": {}
      },
      "source": [
        "#Title Winning Seasons for Barcelona\n",
        "print(\"-------------------------------- Silhouette Values for Title Winning Seasons (Barcelona) --------------------------------\")\n",
        "silhouette(fcb_data[5])\n",
        "\n",
        "#Title Winning Seasons for Real Madrid\n",
        "print(\"-------------------------------- Silhouette Values for Title Winning Seasons (Real Madrid) --------------------------------\")\n",
        "silhouette(rm_data[6])\n"
      ],
      "execution_count": 0,
      "outputs": []
    },
    {
      "cell_type": "code",
      "metadata": {
        "id": "2pnB9gOXvdpG",
        "colab_type": "code",
        "colab": {}
      },
      "source": [
        "#Title Losing Seasons for Barcelona\n",
        "print(\"-------------------------------- Silhouette Values for Title Losing Seasons (Barcelona) --------------------------------\")\n",
        "silhouette(fcb_data[6])\n",
        "\n",
        "#Title Losing Seasons for Real Madrid\n",
        "print(\"-------------------------------- Silhouette Values for Title Losing Seasons (Real Madrid) --------------------------------\")\n",
        "silhouette(rm_data[7])"
      ],
      "execution_count": 0,
      "outputs": []
    }
  ]
}