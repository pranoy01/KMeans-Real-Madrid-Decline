{
  "nbformat": 4,
  "nbformat_minor": 0,
  "metadata": {
    "colab": {
      "name": "KMC.ipynb",
      "provenance": [],
      "authorship_tag": "ABX9TyOybi4Q9C470KRtImUGIN+1",
      "include_colab_link": true
    },
    "kernelspec": {
      "name": "python3",
      "display_name": "Python 3"
    }
  },
  "cells": [
    {
      "cell_type": "markdown",
      "metadata": {
        "id": "view-in-github",
        "colab_type": "text"
      },
      "source": [
        "<a href=\"https://colab.research.google.com/github/bdominique/Real-Madrid/blob/master/KMC.ipynb\" target=\"_parent\"><img src=\"https://colab.research.google.com/assets/colab-badge.svg\" alt=\"Open In Colab\"/></a>"
      ]
    },
    {
      "cell_type": "code",
      "metadata": {
        "id": "rwTv1S-dLnOS",
        "colab_type": "code",
        "colab": {}
      },
      "source": [
        "#K-Means CLustring Algorithm to find the cluster centers of each dataset.\n",
        "from sklearn.cluster import KMeans\n",
        "import pandas as pd\n",
        "import numpy as np"
      ],
      "execution_count": 0,
      "outputs": []
    },
    {
      "cell_type": "code",
      "metadata": {
        "id": "hbL-md2sMVsW",
        "colab_type": "code",
        "colab": {}
      },
      "source": [
        "def KMC(filename, n):\n",
        "  data = pd.read_csv(filename)\n",
        "  kmeans = KMeans(n_clusters = n, random_state=0)\n",
        "  kmeans.fit(data)\n",
        "  centers = kmeans.cluster_centers_\n",
        "  #After finding the cluster_centers_, print out the feature that cooresponds to it.\n",
        "  for c in range(len(centers)):\n",
        "    print(\"---------Values for Cluster\", c+1, \"---------\")\n",
        "    for i in range(len(centers[c])):\n",
        "      print((data.columns.values[i]), \": \", np.round(centers[c][i],4))\n",
        "    print(np.count_nonzero(kmeans.labels_ == c), \"Games included in this cluster\")\n",
        "  return"
      ],
      "execution_count": 0,
      "outputs": []
    },
    {
      "cell_type": "code",
      "metadata": {
        "id": "RsU_nJI7kvMn",
        "colab_type": "code",
        "colab": {}
      },
      "source": [
        "fcb_data = [\"fcb_data_pt1_v1.csv\", \"fcb_data_pt2_v1.csv\", \"fcb_data_all_v1.csv\", \"fcb_data_guardiola.csv\", \"fcb_data_enrique.csv\", \"fcb_data_title_wins.csv\", \"fcb_data_title_losses.csv\"]\n",
        "rm_data = [\"rm_data_pt1_v1.csv\", \"rm_data_pt2_v1.csv\", \"rm_data_all_v1.csv\", \"rm_data_mourinho.csv\", \"rm_data_ancelotti.csv\", \"rm_data_zidane.csv\", \"rm_data_title_wins.csv\", \"rm_data_title_losses.csv\"]"
      ],
      "execution_count": 0,
      "outputs": []
    },
    {
      "cell_type": "code",
      "metadata": {
        "id": "kFjxVoKKT5ar",
        "colab_type": "code",
        "colab": {}
      },
      "source": [
        "\"\"\"\n",
        "#2009/10-2013/14 seasons for each team\n",
        "print(\"-------------------------------- Clusters for 2009/10-2013/14 Seasons (Barcelona) --------------------------------\")\n",
        "KMC(fcb_data[0], 3)\n",
        "print(\"-------------------------------- Clusters for 2009/10-2013/14 Seasons (Real Madrid) --------------------------------\")\n",
        "KMC(rm_data[0], 3)\n",
        "\n",
        "#2014/15-2017/18 seasons for each team\n",
        "print(\"-------------------------------- Clusters for 2014/15-2017/18 Seasons (Barcelona) --------------------------------\")\n",
        "KMC(fcb_data[1], 2)\n",
        "print(\"-------------------------------- Clusters for 2014/15-2017/18 Seasons (Real Madrid) --------------------------------\")\n",
        "KMC(rm_data[1], 2)\n",
        "\n",
        "#2009/10-2017-18 seasons for each team\n",
        "print(\"-------------------------------- Clusters for 2009/10-2017/18 Seasons (Barcelona) --------------------------------\")\n",
        "KMC(fcb_data[2], 2)\n",
        "print(\"-------------------------------- Clusters for 2009/10-2017/18 Seasons (Real Madrid) --------------------------------\")\n",
        "KMC(rm_data[2], 2)\n",
        "\n",
        "#Real Madrid Managers\n",
        "print(\"-------------------------------- Clusters for Mourinho --------------------------------\")\n",
        "KMC(rm_data[3], 2)\n",
        "\n",
        "print(\"-------------------------------- Clusters for Ancelotti --------------------------------\")\n",
        "KMC(rm_data[4], 2)\n",
        "\n",
        "print(\"-------------------------------- Clusters for Zidane --------------------------------\")\n",
        "KMC(rm_data[5], 2)\n",
        "\n",
        "#Barcelona Managers\n",
        "print(\"-------------------------------- Clusters for Guardiola --------------------------------\")\n",
        "KMC(fcb_data[3], 3)\n",
        "\n",
        "print(\"-------------------------------- Clusters for Enrique --------------------------------\")\n",
        "KMC(fcb_data[4], 3)\n",
        "\n",
        "#Title Winning Seasons for Barcelona\n",
        "print(\"-------------------------------- Clusters for Title Winning Seasons (Barcelona) --------------------------------\")\n",
        "KMC(fcb_data[5], 2)\n",
        "\n",
        "#Title Winning Seasons for Real Madrid\n",
        "print(\"-------------------------------- Clusters for Title Winning Seasons (Real Madrid) --------------------------------\")\n",
        "KMC(rm_data[6], 2)\n",
        "\n",
        "#Title Losing Seasons for Barcelona\n",
        "print(\"-------------------------------- Clusters for Title Losing Seasons (Barcelona) --------------------------------\")\n",
        "KMC(fcb_data[6], 2)\n",
        "\n",
        "#Title Losing Seasons for Real Madrid\n",
        "print(\"-------------------------------- Clusters for Title Losing Seasons (Real Madrid) --------------------------------\")\n",
        "KMC(rm_data[7], 2)\n",
        "\"\"\""
      ],
      "execution_count": 0,
      "outputs": []
    },
    {
      "cell_type": "code",
      "metadata": {
        "id": "3Axr3FTC_L4x",
        "colab_type": "code",
        "colab": {}
      },
      "source": [
        ""
      ],
      "execution_count": 0,
      "outputs": []
    }
  ]
}